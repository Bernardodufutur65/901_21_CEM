{
 "cells": [
  {
   "cell_type": "markdown",
   "metadata": {},
   "source": [
    "Projet télédec\n",
    "https://mlang.frama.io/cours-marc-lang/stable/sigmaM2_telea/sigmaM2_projet.html\n",
    "\n",
    "**DO** : \n",
    "• Création du dépôt Git ✓\n",
    "\n",
    "• Télécharger les images ✓\n",
    "--> THEIA\n",
    "--> BDFORET\n",
    "\n",
    "• Upload les images sur Onyxia dans : mes fichiers --> diffusion --> images ✓\n",
    "⚠️ charger à l'aide d'un terminal les images à chaque nouvelle session avec le code : mc cp -r s3/mecva/diffusion/images /home/onyxia/work/data\n",
    "\n",
    "**TODO** : \n",
    "• Masque sur les rasters à partir de la BDFORET\n",
    "--> exclure : lande, formation herbacée, forêts ouvertes et forêt fermée sans couvert arboré\n",
    "--> Format raster GeoTiff\n",
    "--> encodé en 8 bits\n",
    "--> même emprise spatiale et résolution spatiale que les images S2 utilisées (après découpe Cf section Pré-traitement des images);\n",
    "--> nom du fichier masque_foret.tif ;\n",
    "--> chemin du fichier results/data/img_pretraitees\n",
    "--> contient les valeurs suivantes :\n",
    "    --> Classe zone de forêt avec valeur de pixel 1\n",
    "    --> Classe zone hors forêt avec valeur de pixel 0\n",
    "--> Instructions du masque à mettre dans \"build_mask.py\"\n",
    "--> Si d'éventuelles fonctions créées pour structurer le code, les mettre dans \"my_function.py\"\n",
    "\n",
    "• Sélectionner les échantillons :\n",
    "--> bibliothèque geopandas pour sélection des classes et création attribut\n",
    "--> inclux dans l'emprise des images S2 utilisées\n",
    "--> utiliser uniquement les classes présentes dans la figure 2 de la page du Projet\n",
    "--> Certaines classes TFV pas à prendre en compte pour les deux classifs\n",
    "Résulat attendu est un fichier vecteur qui contient les polygones sélectionnés de la BD Forêt avec les attributs suivants\n",
    "    - nom\n",
    "    - code\n",
    "Nommer le fichier Sample_BD_foret_T31TCJ.shp (si vous utilisez le format shapefile) et mettez le dans le dossier results/data/sample\n",
    "--> Instructions du masque à mettre dans \"sample_curation.py\"\n",
    "--> Si d'éventuelles fonctions créées pour structurer le code, les mettre dans \"my_function.py\"\n",
    "\n",
    "• Analyse des échantillons\n",
    "× Nombre d'échantillons\n",
    "--> Utiliser les bibliothèques matplotlib ou plotly\n",
    "--> Utiliser les classes de la colonne \"classif pixel\" de la figure 2\n",
    "--> produire un diagramme en bâton :\n",
    "    --> nombre de polygones par classe, nommez le diag_baton_nb_poly_by_class.png (ou .html le cas échant) et commentez brièvement les résultats obtenus\n",
    "    --> nombre de pixel par classe, nommez le diag_baton_nb_pix_by_class.png (ou .html le cas échant) et commentez brièvement les résultats obtenus\n",
    "--> Produire un \"violin plot\" de la distribution nombre de pixels par polygone, par classe, nommez le violin_plot_nb_pix_by_poly_by_class.png (ou .html le cas échant) et commentez brièvement les résultats obtenus\n",
    "==> Les figures sont à produire dans le dossier results/figure\n",
    "--> Instructions du masque à mettre dans \"sample_analysis_nb_sample.py\"\n",
    "--> Si d'éventuelles fonctions créées pour structurer le code, les mettre dans \"my_function.py\"\n",
    "\n",
    "× Phénologie des peuplements purs\n"
   ]
  }
 ],
 "metadata": {
  "language_info": {
   "name": "python"
  }
 },
 "nbformat": 4,
 "nbformat_minor": 2
}
